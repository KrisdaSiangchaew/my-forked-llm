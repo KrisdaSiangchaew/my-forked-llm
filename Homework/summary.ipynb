{
 "cells": [
  {
   "cell_type": "markdown",
   "id": "4b170bdf",
   "metadata": {},
   "source": [
    "## Reading in API key from your environment"
   ]
  },
  {
   "cell_type": "code",
   "execution_count": 1,
   "id": "722156cd-9113-4ec7-966c-9d63a9faa7f9",
   "metadata": {},
   "outputs": [
    {
     "name": "stdout",
     "output_type": "stream",
     "text": [
      "API key found\n"
     ]
    }
   ],
   "source": [
    "import os\n",
    "from dotenv import load_dotenv\n",
    "from openai import OpenAI\n",
    "\n",
    "load_dotenv(override=True)\n",
    "api_key = os.getenv('OPENAI_API_KEY')\n",
    "if not api_key:\n",
    "    print(\"API key not found\")\n",
    "elif not api_key.startswith('sk-proj-'):\n",
    "    print(\"An API key was found but it doesn't start with sk-proj-\")\n",
    "elif api_key.strip() != api_key:\n",
    "    print(\"An API key was found but it contain whitespace before or end of it\")\n",
    "else:\n",
    "    print(\"API key found\")"
   ]
  },
  {
   "cell_type": "markdown",
   "id": "a9a20c3d",
   "metadata": {},
   "source": [
    "## Start using OpenAI"
   ]
  },
  {
   "cell_type": "markdown",
   "id": "57142229",
   "metadata": {},
   "source": [
    "### Resources"
   ]
  },
  {
   "cell_type": "markdown",
   "id": "b0bd3129",
   "metadata": {},
   "source": [
    "https://platform.openai.com/docs/quickstart?api-mode=responses&lang=python"
   ]
  },
  {
   "cell_type": "markdown",
   "id": "e3fcd5f9",
   "metadata": {},
   "source": [
    "### Connecting to OpenAI"
   ]
  },
  {
   "cell_type": "code",
   "execution_count": 5,
   "id": "96d13ba9",
   "metadata": {},
   "outputs": [],
   "source": [
    "client = OpenAI()"
   ]
  },
  {
   "cell_type": "markdown",
   "id": "57ba5cc6",
   "metadata": {},
   "source": [
    "### Calling client for text generation"
   ]
  },
  {
   "cell_type": "code",
   "execution_count": null,
   "id": "e5aaed2e",
   "metadata": {},
   "outputs": [],
   "source": [
    "message = \"Hello, GPT!\"\n",
    "response = client.responses.create(\n",
    "    model='gpt-4o-mini',\n",
    "    input=message\n",
    ")\n",
    "print(response.output_text)"
   ]
  },
  {
   "cell_type": "markdown",
   "id": "cb2f885d",
   "metadata": {},
   "source": [
    "### Analyze image inputs"
   ]
  },
  {
   "cell_type": "code",
   "execution_count": 6,
   "id": "2fe109f8",
   "metadata": {},
   "outputs": [
    {
     "name": "stdout",
     "output_type": "stream",
     "text": [
      "The image shows a basketball game featuring players from the Cleveland Cavaliers and the Brooklyn Nets.\n"
     ]
    }
   ],
   "source": [
    "response = client.responses.create(\n",
    "    model='gpt-4o-mini',\n",
    "    input=[\n",
    "        {\"role\": \"user\", \"content\": \"what team is playing in this image?\"},\n",
    "        {\n",
    "            \"role\": \"user\",\n",
    "            \"content\": [\n",
    "                {\n",
    "                    \"type\": \"input_image\",\n",
    "                    \"image_url\": \"https://upload.wikimedia.org/wikipedia/commons/3/3b/LeBron_James_Layup_%28Cleveland_vs_Brooklyn_2018%29.jpg\"\n",
    "                }\n",
    "            ]\n",
    "        }\n",
    "    ]\n",
    ")\n",
    "\n",
    "print(response.output_text)"
   ]
  },
  {
   "cell_type": "markdown",
   "id": "9784ff3b",
   "metadata": {},
   "source": [
    "## Business applications"
   ]
  },
  {
   "cell_type": "markdown",
   "id": "b5298490",
   "metadata": {},
   "source": [
    "### Summarizing website - W1D1"
   ]
  },
  {
   "cell_type": "code",
   "execution_count": null,
   "id": "371db681",
   "metadata": {},
   "outputs": [
    {
     "name": "stdout",
     "output_type": "stream",
     "text": [
      "API key found\n"
     ]
    }
   ],
   "source": [
    "import os\n",
    "from dotenv import load_dotenv\n",
    "from openai import OpenAI\n",
    "\n",
    "# get api key\n",
    "api_key = os.getenv('OPENAI_API_KEY')\n",
    "if not api_key:\n",
    "    print(\"API key not found\")\n",
    "elif not api_key.startswith('sk-proj-'):\n",
    "    print(\"An API key was found but it doesn't start with sk-proj-\")\n",
    "elif api_key.strip() != api_key:\n",
    "    print(\"An API key was found but it contain whitespace before or end of it\")\n",
    "else:\n",
    "    print(\"API key found\")\n",
    "\n",
    "# load client\n",
    "client = OpenAI()"
   ]
  },
  {
   "cell_type": "markdown",
   "id": "bbfabb63",
   "metadata": {},
   "source": [
    "#### A class to represent a webpage"
   ]
  },
  {
   "cell_type": "code",
   "execution_count": null,
   "id": "34c0ca52",
   "metadata": {},
   "outputs": [],
   "source": [
    "from bs4 import BeautifulSoup\n",
    "import requests\n",
    "\n",
    "# A class to represent a Webpage\n",
    "# If you're not familiar with Classes, check out the \"Intermediate Python\" notebook\n",
    "\n",
    "# Some websites need you to use proper headers when fetching them:\n",
    "headers = {\n",
    " \"User-Agent\": \"Mozilla/5.0 (Windows NT 10.0; Win64; x64) AppleWebKit/537.36 (KHTML, like Gecko) Chrome/117.0.0.0 Safari/537.36\"\n",
    "}\n",
    "\n",
    "class Website:\n",
    "\n",
    "    def __init__(self, url):\n",
    "        \"\"\"\n",
    "        Create this Website object from the given url using the BeautifulSoup library\n",
    "        \"\"\"\n",
    "        self.url = url\n",
    "        response = requests.get(url, headers=headers)\n",
    "        soup = BeautifulSoup(response.content, 'html.parser')\n",
    "        self.title = soup.title.string if soup.title else \"No title found\"\n",
    "        for irrelevant in soup.body([\"script\", \"style\", \"img\", \"input\"]):\n",
    "            irrelevant.decompose()\n",
    "        self.text = soup.body.get_text(separator=\"\\n\", strip=True)"
   ]
  },
  {
   "cell_type": "markdown",
   "id": "fac2d977",
   "metadata": {},
   "source": [
    "#### A function to return user prompt"
   ]
  },
  {
   "cell_type": "code",
   "execution_count": 24,
   "id": "610a46c0",
   "metadata": {},
   "outputs": [],
   "source": [
    "def user_prompt_for(website: Website):\n",
    "    user_prompt = f\"You are looking at a webiste titled: {website.title}\"\n",
    "    user_prompt += \"\\nThe content for the website is as follows;\\\n",
    "    please provide a short summary of this website in markdown. \\\n",
    "    If it includes news or announcements, then summarize these too.\\n\\n\"\n",
    "    user_prompt += website.text\n",
    "    return user_prompt"
   ]
  },
  {
   "cell_type": "markdown",
   "id": "294c3b3d",
   "metadata": {},
   "source": [
    "#### System prompt"
   ]
  },
  {
   "cell_type": "code",
   "execution_count": 26,
   "id": "9459fb6d",
   "metadata": {},
   "outputs": [],
   "source": [
    "# Define our system prompt - you can experiment with this later, changing the last sentence to 'Respond in markdown in Spanish.\"\n",
    "\n",
    "system_prompt = \"You are an assistant that analyzes the contents of a website \\\n",
    "and provides a short summary, ignoring text that might be navigation related. \\\n",
    "Respond in markdown.\""
   ]
  },
  {
   "cell_type": "markdown",
   "id": "94dfb5df",
   "metadata": {},
   "source": [
    "#### A function to return input for GPT-4o-mini"
   ]
  },
  {
   "cell_type": "code",
   "execution_count": 33,
   "id": "43b53e9e",
   "metadata": {},
   "outputs": [],
   "source": [
    "def inputs_for(url: str):\n",
    "    website = Website(url=url)\n",
    "    return [\n",
    "        {'role': 'system', 'content': system_prompt},\n",
    "        {'role': 'user', 'content': user_prompt_for(website)}\n",
    "    ]"
   ]
  },
  {
   "cell_type": "markdown",
   "id": "b4e911c1",
   "metadata": {},
   "source": [
    "#### A function to put it all together"
   ]
  },
  {
   "cell_type": "code",
   "execution_count": 36,
   "id": "d87734c4",
   "metadata": {},
   "outputs": [],
   "source": [
    "from IPython.display import Markdown, display\n",
    "\n",
    "def summarize(url: str):\n",
    "    response = client.responses.create(\n",
    "        input=inputs_for(url=url),\n",
    "        model='gpt-4o-mini'\n",
    "    )\n",
    "    display(Markdown(response.output_text))"
   ]
  },
  {
   "cell_type": "code",
   "execution_count": 37,
   "id": "10b4c9d6",
   "metadata": {},
   "outputs": [
    {
     "data": {
      "text/markdown": [
       "# Summary of Medium\n",
       "\n",
       "Medium is a platform dedicated to reading and writing stories, fostering a community where users can share and explore diverse ideas and narratives. The platform emphasizes deepening understanding through various human stories. \n",
       "\n",
       "Key Features:\n",
       "- **Membership**: Offers exclusive content for subscribers.\n",
       "- **Writing Opportunities**: Encourages users to contribute their own stories and perspectives.\n",
       "- **Reading**: Users can start reading articles on a wide range of topics.\n",
       "\n",
       "Overall, Medium serves as a hub for both content consumers and creators, promoting engagement with a variety of ideas. \n",
       "\n",
       "No specific news or announcements were mentioned in the provided content."
      ],
      "text/plain": [
       "<IPython.core.display.Markdown object>"
      ]
     },
     "metadata": {},
     "output_type": "display_data"
    }
   ],
   "source": [
    "summarize('https://www.medium.com')"
   ]
  },
  {
   "cell_type": "code",
   "execution_count": null,
   "id": "bd348505",
   "metadata": {},
   "outputs": [],
   "source": []
  }
 ],
 "metadata": {
  "kernelspec": {
   "display_name": "llms",
   "language": "python",
   "name": "python3"
  },
  "language_info": {
   "codemirror_mode": {
    "name": "ipython",
    "version": 3
   },
   "file_extension": ".py",
   "mimetype": "text/x-python",
   "name": "python",
   "nbconvert_exporter": "python",
   "pygments_lexer": "ipython3",
   "version": "3.11.11"
  }
 },
 "nbformat": 4,
 "nbformat_minor": 5
}
